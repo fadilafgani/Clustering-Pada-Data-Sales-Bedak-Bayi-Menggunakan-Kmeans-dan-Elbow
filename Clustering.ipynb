{
 "cells": [
  {
   "cell_type": "markdown",
   "metadata": {},
   "source": [
    "# CLUSTERING - K-MEANS\n",
    "\n",
    "Tugas: Membuat program clustering menggunakan K-means dan Elbow, Dataset yang digunakan yaitu bedak bayi sales di jawa timur\n"
   ]
  },
  {
   "cell_type": "code",
   "execution_count": 1,
   "metadata": {},
   "outputs": [],
   "source": [
    "#importing library\n",
    "import numpy as np  \n",
    "import pandas as pd\n",
    "import seaborn as sns\n",
    "import matplotlib.pyplot as plt\n",
    "from sklearn.cluster import KMeans\n",
    "from sklearn.preprocessing import MinMaxScaler # penscakalaan nilai data\n",
    "from sklearn.manifold import TSNE # t-distributed sthocastic Neighbour embedding"
   ]
  },
  {
   "cell_type": "code",
   "execution_count": 2,
   "metadata": {},
   "outputs": [],
   "source": [
    "#importing dataset\n",
    "data1 = pd.read_csv(\"bedakbayi.csv\")"
   ]
  },
  {
   "cell_type": "code",
   "execution_count": 3,
   "metadata": {},
   "outputs": [],
   "source": [
    "#data=pd.read_csv(\"Iris.csv\")"
   ]
  },
  {
   "cell_type": "code",
   "execution_count": 4,
   "metadata": {},
   "outputs": [
    {
     "data": {
      "text/html": [
       "<div>\n",
       "<style scoped>\n",
       "    .dataframe tbody tr th:only-of-type {\n",
       "        vertical-align: middle;\n",
       "    }\n",
       "\n",
       "    .dataframe tbody tr th {\n",
       "        vertical-align: top;\n",
       "    }\n",
       "\n",
       "    .dataframe thead th {\n",
       "        text-align: right;\n",
       "    }\n",
       "</style>\n",
       "<table border=\"1\" class=\"dataframe\">\n",
       "  <thead>\n",
       "    <tr style=\"text-align: right;\">\n",
       "      <th></th>\n",
       "      <th>Tahun</th>\n",
       "      <th>Coverage</th>\n",
       "      <th>sales(mio)</th>\n",
       "    </tr>\n",
       "  </thead>\n",
       "  <tbody>\n",
       "    <tr>\n",
       "      <th>0</th>\n",
       "      <td>2014</td>\n",
       "      <td>Kab. Gresik</td>\n",
       "      <td>277.34</td>\n",
       "    </tr>\n",
       "    <tr>\n",
       "      <th>1</th>\n",
       "      <td>2014</td>\n",
       "      <td>Kab. Bangkalan</td>\n",
       "      <td>208.39</td>\n",
       "    </tr>\n",
       "    <tr>\n",
       "      <th>2</th>\n",
       "      <td>2014</td>\n",
       "      <td>Kab. Sampang</td>\n",
       "      <td>204.99</td>\n",
       "    </tr>\n",
       "    <tr>\n",
       "      <th>3</th>\n",
       "      <td>2014</td>\n",
       "      <td>Kab. Pamekasan</td>\n",
       "      <td>170.51</td>\n",
       "    </tr>\n",
       "    <tr>\n",
       "      <th>4</th>\n",
       "      <td>2014</td>\n",
       "      <td>Kab. Sumenep</td>\n",
       "      <td>188.30</td>\n",
       "    </tr>\n",
       "  </tbody>\n",
       "</table>\n",
       "</div>"
      ],
      "text/plain": [
       "   Tahun        Coverage  sales(mio)\n",
       "0   2014     Kab. Gresik      277.34\n",
       "1   2014  Kab. Bangkalan      208.39\n",
       "2   2014    Kab. Sampang      204.99\n",
       "3   2014  Kab. Pamekasan      170.51\n",
       "4   2014    Kab. Sumenep      188.30"
      ]
     },
     "execution_count": 4,
     "metadata": {},
     "output_type": "execute_result"
    }
   ],
   "source": [
    "data1.head()"
   ]
  },
  {
   "cell_type": "code",
   "execution_count": 5,
   "metadata": {},
   "outputs": [],
   "source": [
    "datax=data1.drop([\"Tahun\",\"Coverage\"], axis=1)"
   ]
  },
  {
   "cell_type": "code",
   "execution_count": 6,
   "metadata": {},
   "outputs": [
    {
     "data": {
      "text/html": [
       "<div>\n",
       "<style scoped>\n",
       "    .dataframe tbody tr th:only-of-type {\n",
       "        vertical-align: middle;\n",
       "    }\n",
       "\n",
       "    .dataframe tbody tr th {\n",
       "        vertical-align: top;\n",
       "    }\n",
       "\n",
       "    .dataframe thead th {\n",
       "        text-align: right;\n",
       "    }\n",
       "</style>\n",
       "<table border=\"1\" class=\"dataframe\">\n",
       "  <thead>\n",
       "    <tr style=\"text-align: right;\">\n",
       "      <th></th>\n",
       "      <th>sales(mio)</th>\n",
       "    </tr>\n",
       "  </thead>\n",
       "  <tbody>\n",
       "    <tr>\n",
       "      <th>0</th>\n",
       "      <td>277.34</td>\n",
       "    </tr>\n",
       "    <tr>\n",
       "      <th>1</th>\n",
       "      <td>208.39</td>\n",
       "    </tr>\n",
       "    <tr>\n",
       "      <th>2</th>\n",
       "      <td>204.99</td>\n",
       "    </tr>\n",
       "    <tr>\n",
       "      <th>3</th>\n",
       "      <td>170.51</td>\n",
       "    </tr>\n",
       "    <tr>\n",
       "      <th>4</th>\n",
       "      <td>188.30</td>\n",
       "    </tr>\n",
       "  </tbody>\n",
       "</table>\n",
       "</div>"
      ],
      "text/plain": [
       "   sales(mio)\n",
       "0      277.34\n",
       "1      208.39\n",
       "2      204.99\n",
       "3      170.51\n",
       "4      188.30"
      ]
     },
     "execution_count": 6,
     "metadata": {},
     "output_type": "execute_result"
    }
   ],
   "source": [
    "datax.head()"
   ]
  },
  {
   "cell_type": "code",
   "execution_count": 7,
   "metadata": {},
   "outputs": [],
   "source": [
    "datax.to_csv(\"bedakbayi_baru.csv\", index=False)"
   ]
  },
  {
   "cell_type": "code",
   "execution_count": 8,
   "metadata": {},
   "outputs": [],
   "source": [
    "X=pd.read_csv(\"bedakbayi_baru.csv\")"
   ]
  },
  {
   "cell_type": "code",
   "execution_count": 9,
   "metadata": {},
   "outputs": [
    {
     "data": {
      "text/html": [
       "<div>\n",
       "<style scoped>\n",
       "    .dataframe tbody tr th:only-of-type {\n",
       "        vertical-align: middle;\n",
       "    }\n",
       "\n",
       "    .dataframe tbody tr th {\n",
       "        vertical-align: top;\n",
       "    }\n",
       "\n",
       "    .dataframe thead th {\n",
       "        text-align: right;\n",
       "    }\n",
       "</style>\n",
       "<table border=\"1\" class=\"dataframe\">\n",
       "  <thead>\n",
       "    <tr style=\"text-align: right;\">\n",
       "      <th></th>\n",
       "      <th>sales(mio)</th>\n",
       "    </tr>\n",
       "  </thead>\n",
       "  <tbody>\n",
       "    <tr>\n",
       "      <th>0</th>\n",
       "      <td>277.34</td>\n",
       "    </tr>\n",
       "    <tr>\n",
       "      <th>1</th>\n",
       "      <td>208.39</td>\n",
       "    </tr>\n",
       "    <tr>\n",
       "      <th>2</th>\n",
       "      <td>204.99</td>\n",
       "    </tr>\n",
       "    <tr>\n",
       "      <th>3</th>\n",
       "      <td>170.51</td>\n",
       "    </tr>\n",
       "    <tr>\n",
       "      <th>4</th>\n",
       "      <td>188.30</td>\n",
       "    </tr>\n",
       "    <tr>\n",
       "      <th>...</th>\n",
       "      <td>...</td>\n",
       "    </tr>\n",
       "    <tr>\n",
       "      <th>61</th>\n",
       "      <td>335.20</td>\n",
       "    </tr>\n",
       "    <tr>\n",
       "      <th>62</th>\n",
       "      <td>211.68</td>\n",
       "    </tr>\n",
       "    <tr>\n",
       "      <th>63</th>\n",
       "      <td>162.83</td>\n",
       "    </tr>\n",
       "    <tr>\n",
       "      <th>64</th>\n",
       "      <td>94.69</td>\n",
       "    </tr>\n",
       "    <tr>\n",
       "      <th>65</th>\n",
       "      <td>83.29</td>\n",
       "    </tr>\n",
       "  </tbody>\n",
       "</table>\n",
       "<p>66 rows × 1 columns</p>\n",
       "</div>"
      ],
      "text/plain": [
       "    sales(mio)\n",
       "0       277.34\n",
       "1       208.39\n",
       "2       204.99\n",
       "3       170.51\n",
       "4       188.30\n",
       "..         ...\n",
       "61      335.20\n",
       "62      211.68\n",
       "63      162.83\n",
       "64       94.69\n",
       "65       83.29\n",
       "\n",
       "[66 rows x 1 columns]"
      ]
     },
     "execution_count": 9,
     "metadata": {},
     "output_type": "execute_result"
    }
   ],
   "source": [
    "X"
   ]
  },
  {
   "cell_type": "code",
   "execution_count": 10,
   "metadata": {},
   "outputs": [
    {
     "data": {
      "image/png": "[encoded data removed]",
      "text/plain": [
       "<Figure size 432x288 with 1 Axes>"
      ]
     },
     "metadata": {
      "needs_background": "light"
     },
     "output_type": "display_data"
    }
   ],
   "source": [
    "# Menggunakan metode elbow untuk menentukan angka cluster yang tepat\n",
    "from sklearn.cluster import KMeans\n",
    "wcss = []\n",
    "for i in range(1,10):\n",
    "    kmeans = KMeans(n_clusters = i, init = 'k-means++', random_state = 42)\n",
    "    kmeans.fit(X)\n",
    "    wcss.append(kmeans.inertia_)\n",
    "\n",
    "#menggambar ggrafik elbow    \n",
    "plt.plot(range(1,10), wcss)\n",
    "plt.title('Metode Elbow')\n",
    "plt.xlabel('Jumlah clusters')\n",
    "plt.ylabel('WCSS')\n",
    "plt.show()"
   ]
  },
  {
   "cell_type": "code",
   "execution_count": 11,
   "metadata": {},
   "outputs": [
    {
     "data": {
      "text/plain": [
       "array([[2.87384392e-01],\n",
       "       [2.15733139e-01],\n",
       "       [2.12199938e-01],\n",
       "       [1.76369116e-01],\n",
       "       [1.94856074e-01],\n",
       "       [3.33897953e-01],\n",
       "       [2.33918736e-01],\n",
       "       [5.94959992e-01],\n",
       "       [4.87145381e-01],\n",
       "       [2.86189338e-02],\n",
       "       [1.56915723e-03],\n",
       "       [1.19120856e-01],\n",
       "       [8.23547750e-02],\n",
       "       [4.44663826e-02],\n",
       "       [5.31435103e-02],\n",
       "       [7.41556687e-02],\n",
       "       [9.43157020e-02],\n",
       "       [2.37337629e-01],\n",
       "       [1.49579133e-01],\n",
       "       [1.14870622e-01],\n",
       "       [6.64553673e-02],\n",
       "       [5.83497870e-02],\n",
       "       [3.39135405e-01],\n",
       "       [2.54619142e-01],\n",
       "       [2.50452042e-01],\n",
       "       [2.08188715e-01],\n",
       "       [2.30001039e-01],\n",
       "       [3.94014341e-01],\n",
       "       [2.76078146e-01],\n",
       "       [7.01953653e-01],\n",
       "       [5.74779175e-01],\n",
       "       [1.39769303e-02],\n",
       "       [3.84495480e-04],\n",
       "       [1.59077211e-01],\n",
       "       [1.10069625e-01],\n",
       "       [5.95552323e-02],\n",
       "       [7.11212720e-02],\n",
       "       [9.91374831e-02],\n",
       "       [9.76514600e-02],\n",
       "       [2.45671828e-01],\n",
       "       [1.54847761e-01],\n",
       "       [1.18923413e-01],\n",
       "       [6.88039073e-02],\n",
       "       [6.04281409e-02],\n",
       "       [4.83310818e-01],\n",
       "       [3.62953341e-01],\n",
       "       [3.57019640e-01],\n",
       "       [2.96830510e-01],\n",
       "       [3.27891510e-01],\n",
       "       [5.61456926e-01],\n",
       "       [3.93505144e-01],\n",
       "       [1.00000000e+00],\n",
       "       [8.18892237e-01],\n",
       "       [9.34220098e-03],\n",
       "       [0.00000000e+00],\n",
       "       [1.97755378e-01],\n",
       "       [1.36890783e-01],\n",
       "       [7.41556687e-02],\n",
       "       [8.85170945e-02],\n",
       "       [1.23308739e-01],\n",
       "       [1.38335238e-01],\n",
       "       [3.47511171e-01],\n",
       "       [2.19152032e-01],\n",
       "       [1.68388237e-01],\n",
       "       [9.75787177e-02],\n",
       "       [8.57321002e-02]])"
      ]
     },
     "execution_count": 11,
     "metadata": {},
     "output_type": "execute_result"
    }
   ],
   "source": [
    "scaler = MinMaxScaler()\n",
    "x_scaled = scaler.fit_transform(X)\n",
    "x_scaled"
   ]
  },
  {
   "cell_type": "code",
   "execution_count": 13,
   "metadata": {},
   "outputs": [],
   "source": [
    "df_scala = pd.DataFrame({'Sales': x_scaled[:, 0]})\n",
    "#df_scala = pd.DataFrame({'1': x_scaled[:, 0], '2': x_scaled[:, 1],'3': x_scaled[:, 2],'4': x_scaled[:, 3],'5': x_scaled[:, 4],'6': x_scaled[:, 5],'7': x_scaled[:, 6],'8': x_scaled[:, 7]})"
   ]
  },
  {
   "cell_type": "code",
   "execution_count": 14,
   "metadata": {},
   "outputs": [
    {
     "data": {
      "text/html": [
       "<div>\n",
       "<style scoped>\n",
       "    .dataframe tbody tr th:only-of-type {\n",
       "        vertical-align: middle;\n",
       "    }\n",
       "\n",
       "    .dataframe tbody tr th {\n",
       "        vertical-align: top;\n",
       "    }\n",
       "\n",
       "    .dataframe thead th {\n",
       "        text-align: right;\n",
       "    }\n",
       "</style>\n",
       "<table border=\"1\" class=\"dataframe\">\n",
       "  <thead>\n",
       "    <tr style=\"text-align: right;\">\n",
       "      <th></th>\n",
       "      <th>Sales</th>\n",
       "    </tr>\n",
       "  </thead>\n",
       "  <tbody>\n",
       "    <tr>\n",
       "      <th>0</th>\n",
       "      <td>0.287384</td>\n",
       "    </tr>\n",
       "    <tr>\n",
       "      <th>1</th>\n",
       "      <td>0.215733</td>\n",
       "    </tr>\n",
       "    <tr>\n",
       "      <th>2</th>\n",
       "      <td>0.212200</td>\n",
       "    </tr>\n",
       "    <tr>\n",
       "      <th>3</th>\n",
       "      <td>0.176369</td>\n",
       "    </tr>\n",
       "    <tr>\n",
       "      <th>4</th>\n",
       "      <td>0.194856</td>\n",
       "    </tr>\n",
       "    <tr>\n",
       "      <th>...</th>\n",
       "      <td>...</td>\n",
       "    </tr>\n",
       "    <tr>\n",
       "      <th>61</th>\n",
       "      <td>0.347511</td>\n",
       "    </tr>\n",
       "    <tr>\n",
       "      <th>62</th>\n",
       "      <td>0.219152</td>\n",
       "    </tr>\n",
       "    <tr>\n",
       "      <th>63</th>\n",
       "      <td>0.168388</td>\n",
       "    </tr>\n",
       "    <tr>\n",
       "      <th>64</th>\n",
       "      <td>0.097579</td>\n",
       "    </tr>\n",
       "    <tr>\n",
       "      <th>65</th>\n",
       "      <td>0.085732</td>\n",
       "    </tr>\n",
       "  </tbody>\n",
       "</table>\n",
       "<p>66 rows × 1 columns</p>\n",
       "</div>"
      ],
      "text/plain": [
       "       Sales\n",
       "0   0.287384\n",
       "1   0.215733\n",
       "2   0.212200\n",
       "3   0.176369\n",
       "4   0.194856\n",
       "..       ...\n",
       "61  0.347511\n",
       "62  0.219152\n",
       "63  0.168388\n",
       "64  0.097579\n",
       "65  0.085732\n",
       "\n",
       "[66 rows x 1 columns]"
      ]
     },
     "execution_count": 14,
     "metadata": {},
     "output_type": "execute_result"
    }
   ],
   "source": [
    "df_scala"
   ]
  },
  {
   "cell_type": "code",
   "execution_count": 15,
   "metadata": {},
   "outputs": [
    {
     "data": {
      "text/plain": [
       "TSNE(random_state=0)"
      ]
     },
     "execution_count": 15,
     "metadata": {},
     "output_type": "execute_result"
    }
   ],
   "source": [
    "#Reduksi Dimensi\n",
    "tsne = TSNE(n_components=2, random_state=0)\n",
    "tsne"
   ]
  },
  {
   "cell_type": "code",
   "execution_count": 16,
   "metadata": {},
   "outputs": [
    {
     "data": {
      "text/plain": [
       "array([[ 3.27466369e+00, -2.17542000e+01],\n",
       "       [-1.48846722e+00, -9.40578651e+00],\n",
       "       [ 1.23184566e+01, -5.48031044e+00],\n",
       "       [-1.61117327e+00, -1.74453557e+00],\n",
       "       [ 2.79577351e+00, -4.46305418e+00],\n",
       "       [ 7.65907383e+00, -2.48199291e+01],\n",
       "       [ 6.03638506e+00, -1.25775623e+01],\n",
       "       [ 1.54659910e+01, -4.17408905e+01],\n",
       "       [ 1.92599964e+01, -3.24193077e+01],\n",
       "       [-2.57809162e+00,  3.66300507e+01],\n",
       "       [ 4.00510371e-01,  4.11830368e+01],\n",
       "       [-2.40397859e+00,  1.35114489e+01],\n",
       "       [-1.16618881e+01,  2.27666988e+01],\n",
       "       [ 2.85949063e+00,  3.53570061e+01],\n",
       "       [-5.02584887e+00,  3.21174049e+01],\n",
       "       [ 4.61422968e+00,  2.98791313e+01],\n",
       "       [ 2.95863461e+00,  2.15691128e+01],\n",
       "       [ 1.01170502e+01, -1.06489162e+01],\n",
       "       [-2.44156599e+00,  4.10830355e+00],\n",
       "       [-7.62602091e+00,  1.35569801e+01],\n",
       "       [-8.18966007e+00,  2.69889202e+01],\n",
       "       [-5.05160153e-01,  3.12927532e+01],\n",
       "       [ 1.80691891e+01, -2.25704880e+01],\n",
       "       [ 1.03851042e+01, -1.53176775e+01],\n",
       "       [ 5.54165363e+00, -1.70205498e+01],\n",
       "       [ 7.14355278e+00, -6.72415543e+00],\n",
       "       [ 1.48443193e+01, -1.07241764e+01],\n",
       "       [ 8.57027340e+00, -3.28827095e+01],\n",
       "       [ 1.48281584e+01, -1.73046265e+01],\n",
       "       [ 2.10992260e+01, -4.12431946e+01],\n",
       "       [ 2.28021946e+01, -3.63869286e+01],\n",
       "       [-1.30205479e+01,  3.59485855e+01],\n",
       "       [-7.48375273e+00,  3.75056992e+01],\n",
       "       [ 7.87809801e+00,  4.34085131e+00],\n",
       "       [ 5.93221045e+00,  1.72156944e+01],\n",
       "       [-1.35052710e+01,  2.83069420e+01],\n",
       "       [ 8.24123085e-01,  2.65211048e+01],\n",
       "       [-2.64358651e-02,  1.80627747e+01],\n",
       "       [-4.68837500e+00,  1.81972122e+01],\n",
       "       [ 9.12101626e-01, -1.52853136e+01],\n",
       "       [ 2.88839769e+00,  5.27482891e+00],\n",
       "       [-5.59598494e+00,  9.27992630e+00],\n",
       "       [-3.72749782e+00,  2.73044453e+01],\n",
       "       [-9.48532009e+00,  3.15215969e+01],\n",
       "       [ 1.24193287e+01, -3.70336418e+01],\n",
       "       [ 1.62755108e+01, -2.73146744e+01],\n",
       "       [ 1.09016094e+01, -2.79655457e+01],\n",
       "       [ 9.50968933e+00, -2.03213177e+01],\n",
       "       [ 1.30086937e+01, -2.33698463e+01],\n",
       "       [ 1.76514950e+01, -3.73037415e+01],\n",
       "       [ 1.37128468e+01, -3.16490421e+01],\n",
       "       [ 2.49168777e+01, -4.50642166e+01],\n",
       "       [ 1.98464966e+01, -4.60083466e+01],\n",
       "       [-1.07703638e+01,  4.14166222e+01],\n",
       "       [-5.03264332e+00,  4.25082016e+01],\n",
       "       [ 8.32747650e+00, -1.98981297e+00],\n",
       "       [ 6.07496834e+00,  1.00639582e+01],\n",
       "       [ 6.41508675e+00,  2.51954441e+01],\n",
       "       [-1.92752850e+00,  2.25572701e+01],\n",
       "       [ 2.40843344e+00,  1.34246855e+01],\n",
       "       [-5.59267327e-02,  8.90522766e+00],\n",
       "       [ 4.91018915e+00, -2.88319798e+01],\n",
       "       [ 3.12664819e+00, -9.44069099e+00],\n",
       "       [ 3.30567503e+00,  6.76539004e-01],\n",
       "       [-9.89516163e+00,  1.79645462e+01],\n",
       "       [-6.47965574e+00,  2.25323353e+01]], dtype=float32)"
      ]
     },
     "execution_count": 16,
     "metadata": {},
     "output_type": "execute_result"
    }
   ],
   "source": [
    "tsne_obj= tsne.fit_transform(x_scaled)\n",
    "tsne_obj"
   ]
  },
  {
   "cell_type": "code",
   "execution_count": 17,
   "metadata": {},
   "outputs": [
    {
     "data": {
      "text/html": [
       "<div>\n",
       "<style scoped>\n",
       "    .dataframe tbody tr th:only-of-type {\n",
       "        vertical-align: middle;\n",
       "    }\n",
       "\n",
       "    .dataframe tbody tr th {\n",
       "        vertical-align: top;\n",
       "    }\n",
       "\n",
       "    .dataframe thead th {\n",
       "        text-align: right;\n",
       "    }\n",
       "</style>\n",
       "<table border=\"1\" class=\"dataframe\">\n",
       "  <thead>\n",
       "    <tr style=\"text-align: right;\">\n",
       "      <th></th>\n",
       "      <th>kolom1</th>\n",
       "      <th>kolom2</th>\n",
       "    </tr>\n",
       "  </thead>\n",
       "  <tbody>\n",
       "    <tr>\n",
       "      <th>0</th>\n",
       "      <td>3.274664</td>\n",
       "      <td>-21.754200</td>\n",
       "    </tr>\n",
       "    <tr>\n",
       "      <th>1</th>\n",
       "      <td>-1.488467</td>\n",
       "      <td>-9.405787</td>\n",
       "    </tr>\n",
       "    <tr>\n",
       "      <th>2</th>\n",
       "      <td>12.318457</td>\n",
       "      <td>-5.480310</td>\n",
       "    </tr>\n",
       "    <tr>\n",
       "      <th>3</th>\n",
       "      <td>-1.611173</td>\n",
       "      <td>-1.744536</td>\n",
       "    </tr>\n",
       "    <tr>\n",
       "      <th>4</th>\n",
       "      <td>2.795774</td>\n",
       "      <td>-4.463054</td>\n",
       "    </tr>\n",
       "    <tr>\n",
       "      <th>...</th>\n",
       "      <td>...</td>\n",
       "      <td>...</td>\n",
       "    </tr>\n",
       "    <tr>\n",
       "      <th>61</th>\n",
       "      <td>4.910189</td>\n",
       "      <td>-28.831980</td>\n",
       "    </tr>\n",
       "    <tr>\n",
       "      <th>62</th>\n",
       "      <td>3.126648</td>\n",
       "      <td>-9.440691</td>\n",
       "    </tr>\n",
       "    <tr>\n",
       "      <th>63</th>\n",
       "      <td>3.305675</td>\n",
       "      <td>0.676539</td>\n",
       "    </tr>\n",
       "    <tr>\n",
       "      <th>64</th>\n",
       "      <td>-9.895162</td>\n",
       "      <td>17.964546</td>\n",
       "    </tr>\n",
       "    <tr>\n",
       "      <th>65</th>\n",
       "      <td>-6.479656</td>\n",
       "      <td>22.532335</td>\n",
       "    </tr>\n",
       "  </tbody>\n",
       "</table>\n",
       "<p>66 rows × 2 columns</p>\n",
       "</div>"
      ],
      "text/plain": [
       "       kolom1     kolom2\n",
       "0    3.274664 -21.754200\n",
       "1   -1.488467  -9.405787\n",
       "2   12.318457  -5.480310\n",
       "3   -1.611173  -1.744536\n",
       "4    2.795774  -4.463054\n",
       "..        ...        ...\n",
       "61   4.910189 -28.831980\n",
       "62   3.126648  -9.440691\n",
       "63   3.305675   0.676539\n",
       "64  -9.895162  17.964546\n",
       "65  -6.479656  22.532335\n",
       "\n",
       "[66 rows x 2 columns]"
      ]
     },
     "execution_count": 17,
     "metadata": {},
     "output_type": "execute_result"
    }
   ],
   "source": [
    "df_scala = pd.DataFrame({'kolom1': tsne_obj[:, 0], 'kolom2': tsne_obj[:, 1]})\n",
    "df_scala"
   ]
  },
  {
   "cell_type": "code",
   "execution_count": 18,
   "metadata": {},
   "outputs": [],
   "source": [
    "# Menentukan dan mengkonfigurasi fungsi kmeans\n",
    "kmeans = KMeans(n_clusters = 3, random_state=123)\n",
    "# Menentukan kluster dari data dari dataset yang sudah di reduksi\n",
    "y_kmeans=kmeans.fit(tsne_obj)"
   ]
  },
  {
   "cell_type": "code",
   "execution_count": 19,
   "metadata": {},
   "outputs": [
    {
     "name": "stdout",
     "output_type": "stream",
     "text": [
      "[[  4.5251274  -3.9086456]\n",
      " [ -3.615573   27.075397 ]\n",
      " [ 14.430606  -31.36761  ]]\n"
     ]
    }
   ],
   "source": [
    "#Pusat Data\n",
    "pusat=kmeans.cluster_centers_\n",
    "print(pusat)"
   ]
  },
  {
   "cell_type": "code",
   "execution_count": 20,
   "metadata": {},
   "outputs": [
    {
     "data": {
      "text/html": [
       "<div>\n",
       "<style scoped>\n",
       "    .dataframe tbody tr th:only-of-type {\n",
       "        vertical-align: middle;\n",
       "    }\n",
       "\n",
       "    .dataframe tbody tr th {\n",
       "        vertical-align: top;\n",
       "    }\n",
       "\n",
       "    .dataframe thead th {\n",
       "        text-align: right;\n",
       "    }\n",
       "</style>\n",
       "<table border=\"1\" class=\"dataframe\">\n",
       "  <thead>\n",
       "    <tr style=\"text-align: right;\">\n",
       "      <th></th>\n",
       "      <th>kolom1</th>\n",
       "      <th>kolom2</th>\n",
       "      <th>kluster</th>\n",
       "    </tr>\n",
       "  </thead>\n",
       "  <tbody>\n",
       "    <tr>\n",
       "      <th>0</th>\n",
       "      <td>4.525127</td>\n",
       "      <td>-3.908646</td>\n",
       "      <td>0</td>\n",
       "    </tr>\n",
       "    <tr>\n",
       "      <th>1</th>\n",
       "      <td>-3.615573</td>\n",
       "      <td>27.075397</td>\n",
       "      <td>1</td>\n",
       "    </tr>\n",
       "    <tr>\n",
       "      <th>2</th>\n",
       "      <td>14.430606</td>\n",
       "      <td>-31.367611</td>\n",
       "      <td>2</td>\n",
       "    </tr>\n",
       "  </tbody>\n",
       "</table>\n",
       "</div>"
      ],
      "text/plain": [
       "      kolom1     kolom2  kluster\n",
       "0   4.525127  -3.908646        0\n",
       "1  -3.615573  27.075397        1\n",
       "2  14.430606 -31.367611        2"
      ]
     },
     "execution_count": 20,
     "metadata": {},
     "output_type": "execute_result"
    }
   ],
   "source": [
    "df_pusat_cluster = pd.DataFrame({'kolom1': pusat[:, 0], 'kolom2': pusat[:, 1]})\n",
    "df_pusat_cluster[\"kluster\"] = [0, 1, 2]\n",
    "#df_pusat_cluster[\"kluster\"] = [0, 1]\n",
    "df_pusat_cluster"
   ]
  },
  {
   "cell_type": "code",
   "execution_count": 21,
   "metadata": {},
   "outputs": [
    {
     "data": {
      "text/plain": [
       "KMeans(n_clusters=3, random_state=123)"
      ]
     },
     "execution_count": 21,
     "metadata": {},
     "output_type": "execute_result"
    }
   ],
   "source": [
    "y_kmeans"
   ]
  },
  {
   "cell_type": "code",
   "execution_count": 22,
   "metadata": {},
   "outputs": [
    {
     "data": {
      "text/html": [
       "<div>\n",
       "<style scoped>\n",
       "    .dataframe tbody tr th:only-of-type {\n",
       "        vertical-align: middle;\n",
       "    }\n",
       "\n",
       "    .dataframe tbody tr th {\n",
       "        vertical-align: top;\n",
       "    }\n",
       "\n",
       "    .dataframe thead th {\n",
       "        text-align: right;\n",
       "    }\n",
       "</style>\n",
       "<table border=\"1\" class=\"dataframe\">\n",
       "  <thead>\n",
       "    <tr style=\"text-align: right;\">\n",
       "      <th></th>\n",
       "      <th>kolom1</th>\n",
       "      <th>kolom2</th>\n",
       "      <th>kluster</th>\n",
       "    </tr>\n",
       "  </thead>\n",
       "  <tbody>\n",
       "    <tr>\n",
       "      <th>0</th>\n",
       "      <td>3.274664</td>\n",
       "      <td>-21.754200</td>\n",
       "      <td>2</td>\n",
       "    </tr>\n",
       "    <tr>\n",
       "      <th>1</th>\n",
       "      <td>-1.488467</td>\n",
       "      <td>-9.405787</td>\n",
       "      <td>0</td>\n",
       "    </tr>\n",
       "    <tr>\n",
       "      <th>2</th>\n",
       "      <td>12.318457</td>\n",
       "      <td>-5.480310</td>\n",
       "      <td>0</td>\n",
       "    </tr>\n",
       "    <tr>\n",
       "      <th>3</th>\n",
       "      <td>-1.611173</td>\n",
       "      <td>-1.744536</td>\n",
       "      <td>0</td>\n",
       "    </tr>\n",
       "    <tr>\n",
       "      <th>4</th>\n",
       "      <td>2.795774</td>\n",
       "      <td>-4.463054</td>\n",
       "      <td>0</td>\n",
       "    </tr>\n",
       "    <tr>\n",
       "      <th>...</th>\n",
       "      <td>...</td>\n",
       "      <td>...</td>\n",
       "      <td>...</td>\n",
       "    </tr>\n",
       "    <tr>\n",
       "      <th>61</th>\n",
       "      <td>4.910189</td>\n",
       "      <td>-28.831980</td>\n",
       "      <td>2</td>\n",
       "    </tr>\n",
       "    <tr>\n",
       "      <th>62</th>\n",
       "      <td>3.126648</td>\n",
       "      <td>-9.440691</td>\n",
       "      <td>0</td>\n",
       "    </tr>\n",
       "    <tr>\n",
       "      <th>63</th>\n",
       "      <td>3.305675</td>\n",
       "      <td>0.676539</td>\n",
       "      <td>0</td>\n",
       "    </tr>\n",
       "    <tr>\n",
       "      <th>64</th>\n",
       "      <td>-9.895162</td>\n",
       "      <td>17.964546</td>\n",
       "      <td>1</td>\n",
       "    </tr>\n",
       "    <tr>\n",
       "      <th>65</th>\n",
       "      <td>-6.479656</td>\n",
       "      <td>22.532335</td>\n",
       "      <td>1</td>\n",
       "    </tr>\n",
       "  </tbody>\n",
       "</table>\n",
       "<p>66 rows × 3 columns</p>\n",
       "</div>"
      ],
      "text/plain": [
       "       kolom1     kolom2  kluster\n",
       "0    3.274664 -21.754200        2\n",
       "1   -1.488467  -9.405787        0\n",
       "2   12.318457  -5.480310        0\n",
       "3   -1.611173  -1.744536        0\n",
       "4    2.795774  -4.463054        0\n",
       "..        ...        ...      ...\n",
       "61   4.910189 -28.831980        2\n",
       "62   3.126648  -9.440691        0\n",
       "63   3.305675   0.676539        0\n",
       "64  -9.895162  17.964546        1\n",
       "65  -6.479656  22.532335        1\n",
       "\n",
       "[66 rows x 3 columns]"
      ]
     },
     "execution_count": 22,
     "metadata": {},
     "output_type": "execute_result"
    }
   ],
   "source": [
    "df_scala[\"kluster\"] = kmeans.labels_\n",
    "\n",
    "df_scala"
   ]
  },
  {
   "cell_type": "code",
   "execution_count": 23,
   "metadata": {},
   "outputs": [],
   "source": [
    "#df_scala[\"kolom1\"]"
   ]
  },
  {
   "cell_type": "code",
   "execution_count": 24,
   "metadata": {},
   "outputs": [
    {
     "data": {
      "text/plain": [
       "1    27\n",
       "0    20\n",
       "2    19\n",
       "Name: kluster, dtype: int64"
      ]
     },
     "execution_count": 24,
     "metadata": {},
     "output_type": "execute_result"
    }
   ],
   "source": [
    "df_scala.kluster.value_counts()"
   ]
  },
  {
   "cell_type": "code",
   "execution_count": 25,
   "metadata": {},
   "outputs": [],
   "source": [
    "#Visualisasi\n",
    "import seaborn as sns\n",
    "%matplotlib inline\n",
    "\n",
    "#set font size of labels on matplotlib plots\n",
    "plt.rc('font', size=12)\n",
    "\n",
    "#set style of plots\n",
    "sns.set_style('white')\n",
    "\n",
    "#define a custom palette\n",
    "#customPalette = ['#630C3A', '#39C8C6', '#D3500C', '#FFB139']\n",
    "#sns.set_palette(customPalette)\n",
    "#sns.palplot(customPalette)"
   ]
  },
  {
   "cell_type": "code",
   "execution_count": 27,
   "metadata": {},
   "outputs": [
    {
     "data": {
      "image/png": "[encoded data removed]",
      "text/plain": [
       "<Figure size 720x720 with 1 Axes>"
      ]
     },
     "metadata": {},
     "output_type": "display_data"
    }
   ],
   "source": [
    "#pilihanwarnaku = {0: 'yellow', 1: 'cyan', 2: 'blue', 3: 'green', 4 : 'magenta',5 :'purple',6 : 'black'}\n",
    "pilihanwarnaku = {0: 'blue', 1: 'yellow', 2: 'green'}\n",
    "#pilihanwarnaku = {0: 'yellow', 1: 'cyan'}\n",
    "\n",
    "plt.figure(figsize=(10,10))\n",
    "# zip joins x and y coordinates in pairs\n",
    "for x,y,z in zip(df_scala['kolom2'],df_scala['kolom1'],df_scala['kluster']):\n",
    "    plt.scatter(x,y, \n",
    "                color=pilihanwarnaku[z], \n",
    "                alpha=0.7)\n",
    "\n",
    "for x,y,z in zip(df_pusat_cluster['kolom2'],df_pusat_cluster['kolom1'],df_pusat_cluster['kluster']):\n",
    "    plt.scatter(x,y, \n",
    "                color=\"red\", \n",
    "                alpha=0.7)\n",
    "    \n",
    "    label = f\"({z})\"\n",
    "\n",
    "    plt.annotate(label, # this is the text\n",
    "                 (x,y), # this is the point to label\n",
    "                 textcoords=\"offset points\", # how to position the text\n",
    "                 xytext=(0,10), # distance from text to points (x,y)\n",
    "                 ha='center',\n",
    "                 c='red') # horizontal alignment can be left, right or center\n"
   ]
  },
  {
   "cell_type": "code",
   "execution_count": null,
   "metadata": {},
   "outputs": [],
   "source": []
  },
  {
   "cell_type": "code",
   "execution_count": null,
   "metadata": {},
   "outputs": [],
   "source": []
  },
  {
   "cell_type": "code",
   "execution_count": null,
   "metadata": {},
   "outputs": [],
   "source": []
  }
 ],
 "metadata": {
  "kernelspec": {
   "display_name": "Python 3",
   "language": "python",
   "name": "python3"
  },
  "language_info": {
   "codemirror_mode": {
    "name": "ipython",
    "version": 3
   },
   "file_extension": ".py",
   "mimetype": "text/x-python",
   "name": "python",
   "nbconvert_exporter": "python",
   "pygments_lexer": "ipython3",
   "version": "3.7.9"
  }
 },
 "nbformat": 4,
 "nbformat_minor": 2
}
